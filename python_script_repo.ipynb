{
 "cells": [],
 "metadata": {},
 "nbformat": 4,
 "nbformat_minor": 5
}

(base) C:\Users\Diana\my_python_repo>git add python_script_repo.ipynb
(base) C:\Users\Diana\my_python_repo>git commit -m "created our Python file"
(base) C:\Users\Diana\my_python_repo>git push
